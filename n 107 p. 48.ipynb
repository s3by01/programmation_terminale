{
 "cells": [
  {
   "cell_type": "code",
   "execution_count": 7,
   "metadata": {},
   "outputs": [
    {
     "name": "stdout",
     "output_type": "stream",
     "text": [
      "un =  0.5\n",
      "pn =  0.3333333333333333\n",
      "un =  0.6666666666666666\n",
      "pn =  0.24999999999999994\n",
      "un =  0.7499999999999999\n",
      "pn =  0.19999999999999996\n",
      "un =  0.8\n",
      "pn =  0.16666666666666663\n",
      "un =  0.8333333333333334\n",
      "pn =  0.14285714285714285\n",
      "un =  0.8571428571428572\n",
      "pn =  0.125\n",
      "un =  0.875\n",
      "pn =  0.1111111111111111\n",
      "un =  0.8888888888888888\n",
      "pn =  0.09999999999999998\n",
      "un =  0.8999999999999999\n",
      "pn =  0.09090909090909088\n",
      "un =  0.9090909090909091\n",
      "pn =  0.08333333333333331\n",
      "un =  0.9166666666666667\n",
      "pn =  0.07692307692307691\n",
      "un =  0.9230769230769231\n",
      "pn =  0.07142857142857142\n",
      "un =  0.9285714285714286\n",
      "pn =  0.06666666666666667\n",
      "un =  0.9333333333333333\n",
      "pn =  0.0625\n",
      "un =  0.9375\n",
      "pn =  0.058823529411764705\n",
      "un =  0.9411764705882353\n",
      "pn =  0.05555555555555555\n",
      "un =  0.9444444444444444\n",
      "pn =  0.05263157894736842\n",
      "un =  0.9473684210526315\n",
      "pn =  0.04999999999999999\n",
      "un =  0.9499999999999998\n",
      "pn =  0.047619047619047596\n",
      "un =  0.9523809523809521\n",
      "pn =  0.04545454545454542\n"
     ]
    }
   ],
   "source": [
    "un=1/2\n",
    "pn=1/2\n",
    "for i in range (20):\n",
    "    print(\"un = \", un)\n",
    "    un=1/(2-un)\n",
    "    pn=un*pn\n",
    "    print(\"pn = \", pn)"
   ]
  },
  {
   "cell_type": "code",
   "execution_count": null,
   "metadata": {},
   "outputs": [],
   "source": []
  }
 ],
 "metadata": {
  "kernelspec": {
   "display_name": "Python 3",
   "language": "python",
   "name": "python3"
  },
  "language_info": {
   "codemirror_mode": {
    "name": "ipython",
    "version": 3
   },
   "file_extension": ".py",
   "mimetype": "text/x-python",
   "name": "python",
   "nbconvert_exporter": "python",
   "pygments_lexer": "ipython3",
   "version": "3.7.4"
  }
 },
 "nbformat": 4,
 "nbformat_minor": 2
}
